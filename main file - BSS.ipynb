{
 "cells": [
  {
   "cell_type": "markdown",
   "metadata": {},
   "source": [
    "# Complex Network Analysis"
   ]
  },
  {
   "cell_type": "markdown",
   "metadata": {},
   "source": [
    "## Establish Trip Network"
   ]
  },
  {
   "cell_type": "code",
   "execution_count": 1,
   "metadata": {},
   "outputs": [],
   "source": [
    "import networkx as nx\n",
    "import matplotlib.pyplot as plt\n",
    "import pandas as pd\n",
    "import numpy as np"
   ]
  },
  {
   "cell_type": "code",
   "execution_count": 2,
   "metadata": {},
   "outputs": [],
   "source": [
    "df_july_2016_raw = pd.read_csv('July_trip_raw_data_2016.csv')"
   ]
  },
  {
   "cell_type": "code",
   "execution_count": 3,
   "metadata": {},
   "outputs": [],
   "source": [
    "df_july_2016_count = df_july_2016_raw.value_counts().to_frame('counts').reset_index() "
   ]
  },
  {
   "cell_type": "markdown",
   "metadata": {},
   "source": [
    "Data has been cleaned where the number of trips happening from one node to another is now established in the 'counts' column. The weight of the link is now the numerical value of 'counts', which represent the number of trips happening between node 1 (start_station) and node 2 (end_station)."
   ]
  },
  {
   "cell_type": "code",
   "execution_count": 5,
   "metadata": {},
   "outputs": [
    {
     "data": {
      "text/html": [
       "<div>\n",
       "<style scoped>\n",
       "    .dataframe tbody tr th:only-of-type {\n",
       "        vertical-align: middle;\n",
       "    }\n",
       "\n",
       "    .dataframe tbody tr th {\n",
       "        vertical-align: top;\n",
       "    }\n",
       "\n",
       "    .dataframe thead th {\n",
       "        text-align: right;\n",
       "    }\n",
       "</style>\n",
       "<table border=\"1\" class=\"dataframe\">\n",
       "  <thead>\n",
       "    <tr style=\"text-align: right;\">\n",
       "      <th></th>\n",
       "      <th>start_station</th>\n",
       "      <th>end_station</th>\n",
       "      <th>counts</th>\n",
       "    </tr>\n",
       "  </thead>\n",
       "  <tbody>\n",
       "    <tr>\n",
       "      <th>0</th>\n",
       "      <td>76</td>\n",
       "      <td>35</td>\n",
       "      <td>2298</td>\n",
       "    </tr>\n",
       "    <tr>\n",
       "      <th>1</th>\n",
       "      <td>35</td>\n",
       "      <td>268</td>\n",
       "      <td>1662</td>\n",
       "    </tr>\n",
       "    <tr>\n",
       "      <th>2</th>\n",
       "      <td>268</td>\n",
       "      <td>35</td>\n",
       "      <td>1476</td>\n",
       "    </tr>\n",
       "    <tr>\n",
       "      <th>3</th>\n",
       "      <td>177</td>\n",
       "      <td>35</td>\n",
       "      <td>1452</td>\n",
       "    </tr>\n",
       "    <tr>\n",
       "      <th>4</th>\n",
       "      <td>35</td>\n",
       "      <td>177</td>\n",
       "      <td>1447</td>\n",
       "    </tr>\n",
       "  </tbody>\n",
       "</table>\n",
       "</div>"
      ],
      "text/plain": [
       "   start_station  end_station  counts\n",
       "0             76           35    2298\n",
       "1             35          268    1662\n",
       "2            268           35    1476\n",
       "3            177           35    1452\n",
       "4             35          177    1447"
      ]
     },
     "execution_count": 5,
     "metadata": {},
     "output_type": "execute_result"
    }
   ],
   "source": [
    "df_july_2016_count.head(5)"
   ]
  },
  {
   "cell_type": "markdown",
   "metadata": {},
   "source": [
    "## Establish the value of X"
   ]
  },
  {
   "cell_type": "code",
   "execution_count": 7,
   "metadata": {},
   "outputs": [
    {
     "data": {
      "text/plain": [
       "1    15176\n",
       "2     8441\n",
       "3     5003\n",
       "4     3916\n",
       "5     2826\n",
       "6     2244\n",
       "Name: counts, dtype: int64"
      ]
     },
     "execution_count": 7,
     "metadata": {},
     "output_type": "execute_result"
    }
   ],
   "source": [
    "# now find the number of instances each 'counts' value occurs\n",
    "counting_number = df_july_2016_count['counts'].value_counts(ascending= False)\n",
    "counting_number.head(6)"
   ]
  },
  {
   "cell_type": "markdown",
   "metadata": {},
   "source": [
    "Since we want to remove outliers from our dataset, the cutoff for X should be at 2. The value gap between 1, 2, and 3 are much larger than the value gap between 3, 4, and 5. In general, when performing predictions and analysis, we want predictions for frequent users instead of one or two time users that are perhaps using the bike sharing system to go from one destination to another once and vice versa."
   ]
  },
  {
   "cell_type": "code",
   "execution_count": 8,
   "metadata": {},
   "outputs": [],
   "source": [
    "# now to remove all links with weights less than or equal to 2\n",
    "df_july_2016_bin = df_july_2016_count[df_july_2016_count['counts'] >= 3] # remove links smaller than 3"
   ]
  },
  {
   "cell_type": "markdown",
   "metadata": {},
   "source": [
    "## Visualize and Explore"
   ]
  },
  {
   "cell_type": "code",
   "execution_count": 9,
   "metadata": {},
   "outputs": [],
   "source": [
    "G = nx.from_pandas_edgelist(df_july_2016_bin, source = 'start_station', target = 'end_station')"
   ]
  },
  {
   "cell_type": "code",
   "execution_count": 10,
   "metadata": {},
   "outputs": [
    {
     "data": {
      "image/png": "[encoded data removed]",
      "text/plain": [
       "<Figure size 432x288 with 1 Axes>"
      ]
     },
     "metadata": {},
     "output_type": "display_data"
    }
   ],
   "source": [
    "nx.draw(G)"
   ]
  },
  {
   "cell_type": "code",
   "execution_count": 12,
   "metadata": {},
   "outputs": [
    {
     "data": {
      "text/plain": [
       "(array([167.,  76.,  57.,  48.,  50.,  66.,  38.,  20.,   8.,   2.]),\n",
       " array([  1.,  26.,  51.,  76., 101., 126., 151., 176., 201., 226., 251.]),\n",
       " <BarContainer object of 10 artists>)"
      ]
     },
     "execution_count": 12,
     "metadata": {},
     "output_type": "execute_result"
    },
    {
     "data": {
      "image/png": "[encoded data removed]",
      "text/plain": [
       "<Figure size 432x288 with 1 Axes>"
      ]
     },
     "metadata": {
      "needs_background": "light"
     },
     "output_type": "display_data"
    }
   ],
   "source": [
    "# degree distribution\n",
    "plt.hist([v for k, v in nx.degree(G)])"
   ]
  },
  {
   "cell_type": "markdown",
   "metadata": {},
   "source": [
    "It seems like most stations are not used more widely to locations other than 25 end stations. This makes sense because if you are at one station, it is likely that you will not travel to 25 other stations that are too far away. However, the distribution also indicates that there are a significant amount of stations that are used to travel to many other stations as well. This could potentially reveal that there are a significant amount of stations that are located very close to each other."
   ]
  },
  {
   "cell_type": "code",
   "execution_count": 13,
   "metadata": {},
   "outputs": [
    {
     "data": {
      "text/plain": [
       "0.13841099924953626"
      ]
     },
     "execution_count": 13,
     "metadata": {},
     "output_type": "execute_result"
    }
   ],
   "source": [
    "nx.density(G) # this density value is probably affected by those two isolated outliers "
   ]
  },
  {
   "cell_type": "code",
   "execution_count": 14,
   "metadata": {},
   "outputs": [],
   "source": [
    "degree_dict = dict(G.degree(G.nodes()))\n",
    "nx.set_node_attributes(G, degree_dict, 'degree')"
   ]
  },
  {
   "cell_type": "code",
   "execution_count": 16,
   "metadata": {},
   "outputs": [
    {
     "name": "stdout",
     "output_type": "stream",
     "text": [
      "Top 10 nodes by degree:\n",
      "(35, 251)\n",
      "(268, 246)\n",
      "(77, 217)\n",
      "(91, 212)\n",
      "(177, 210)\n",
      "(94, 207)\n",
      "(76, 205)\n",
      "(133, 203)\n",
      "(85, 202)\n",
      "(69, 202)\n"
     ]
    }
   ],
   "source": [
    "from operator import itemgetter\n",
    "sorted_degree = sorted(degree_dict.items(), key=itemgetter(1), reverse=True)\n",
    "print(\"Top 10 nodes by degree:\")\n",
    "for d in sorted_degree[:10]:\n",
    "    print(d)"
   ]
  },
  {
   "cell_type": "code",
   "execution_count": 18,
   "metadata": {},
   "outputs": [
    {
     "name": "stdout",
     "output_type": "stream",
     "text": [
      "Top 10 nodes by betweenness centrality:\n",
      "(35, 0.05633016081289089)\n",
      "(76, 0.04434201301388677)\n",
      "(268, 0.028321078323253552)\n",
      "(459, 0.027938152728314427)\n",
      "(4, 0.024946006647470934)\n",
      "(69, 0.02010181458552072)\n",
      "(90, 0.019696745932176112)\n",
      "(377, 0.01848398612383826)\n",
      "(518, 0.017286001027373245)\n",
      "(128, 0.01686917755665502)\n",
      "Top 10 nodes by eigenvector centrality:\n",
      "(268, 0.10682136574575665)\n",
      "(35, 0.10373723518118508)\n",
      "(77, 0.09683950156246826)\n",
      "(91, 0.09598949397669099)\n",
      "(289, 0.09577879627709181)\n",
      "(85, 0.0955461662421652)\n",
      "(133, 0.09485377125910084)\n",
      "(176, 0.09437259267860997)\n",
      "(94, 0.09422835777237444)\n",
      "(181, 0.09375902230885588)\n"
     ]
    }
   ],
   "source": [
    "betweenness_dict = nx.betweenness_centrality(G) # Run betweenness centrality\n",
    "eigenvector_dict = nx.eigenvector_centrality(G) # Run eigenvector centrality\n",
    "\n",
    "# Assign each to an attribute in your network\n",
    "nx.set_node_attributes(G, betweenness_dict, 'betweenness')\n",
    "nx.set_node_attributes(G, eigenvector_dict, 'eigenvector')\n",
    "\n",
    "sorted_betweenness = sorted(betweenness_dict.items(), key=itemgetter(1), reverse=True)\n",
    "\n",
    "print(\"Top 10 nodes by betweenness centrality:\")\n",
    "for b in sorted_betweenness[:10]:\n",
    "    print(b)\n",
    "    \n",
    "sorted_eigenvector = sorted(eigenvector_dict.items(), key=itemgetter(1), reverse=True)\n",
    "\n",
    "print(\"Top 10 nodes by eigenvector centrality:\")\n",
    "for b in sorted_eigenvector[:10]:\n",
    "    print(b)"
   ]
  },
  {
   "cell_type": "markdown",
   "metadata": {},
   "source": [
    "Insert summary here later"
   ]
  },
  {
   "cell_type": "markdown",
   "metadata": {},
   "source": [
    "## BSS Network Prediction"
   ]
  },
  {
   "cell_type": "markdown",
   "metadata": {},
   "source": [
    "For the prediction of the binary network I will primarily use classification methods, such as logistic regression, artifical neural network, and naive bayes. Based on previous experiments, the naive bayes was the easiest to implement while being very similar to the artifical neural network in score."
   ]
  },
  {
   "cell_type": "code",
   "execution_count": 19,
   "metadata": {},
   "outputs": [],
   "source": [
    "df_july_2016_pred = pd.read_csv('July_trip_raw_data_2016.csv')"
   ]
  },
  {
   "cell_type": "code",
   "execution_count": 20,
   "metadata": {},
   "outputs": [],
   "source": [
    "df_july_2016_pred = df_july_2016_pred.value_counts().to_frame('counts').reset_index()"
   ]
  },
  {
   "cell_type": "code",
   "execution_count": 21,
   "metadata": {},
   "outputs": [],
   "source": [
    "count_compare = []\n",
    "for index in range(len(df_july_2016_pred)):\n",
    "    if df_july_2016_pred.iloc[index, 2] >= 3:\n",
    "        count_compare.append(1)\n",
    "    else:\n",
    "        count_compare.append(0)"
   ]
  },
  {
   "cell_type": "code",
   "execution_count": 23,
   "metadata": {},
   "outputs": [],
   "source": [
    "df_july_2016_pred['node_binary'] = count_compare"
   ]
  },
  {
   "cell_type": "code",
   "execution_count": 25,
   "metadata": {},
   "outputs": [],
   "source": [
    "# function for calculating distance using latitude and longitude\n",
    "import math\n",
    "def calc_distance(lat1, lon1, lat2, lon2):\n",
    "    R = 6373.0\n",
    "    lat1 = math.radians(lat1)\n",
    "    lon1 = math.radians(lon1)\n",
    "    lat2 = math.radians(lat2)\n",
    "    lon2 = math.radians(lon2)\n",
    "    dlon = lon2-lon1\n",
    "    dlat = lat2-lat1\n",
    "    a = math.sin(dlat/2)**2 + math.cos(lat1)*math.cos(lat2)*math.sin(dlon/2)**2\n",
    "    c = 2*math.atan2(math.sqrt(a), math.sqrt(1-a))\n",
    "    distance = R*c\n",
    "    return distance"
   ]
  },
  {
   "cell_type": "code",
   "execution_count": 27,
   "metadata": {},
   "outputs": [],
   "source": [
    "df_divvy_2016 = pd.read_csv('Divvy_Station_2016.csv')\n",
    "distance = []\n",
    "for index in range(len(df_july_2016_pred)):\n",
    "    start_station = df_july_2016_pred.iloc[index, 0]\n",
    "    end_station = df_july_2016_pred.iloc[index, 1]\n",
    "    row_start = df_divvy_2016.loc[df_divvy_2016['id']==start_station]\n",
    "    row_end = df_divvy_2016.loc[df_divvy_2016['id']==end_station]\n",
    "    lat_start = row_start.iloc[0, 2]\n",
    "    long_start = row_start.iloc[0, 3]\n",
    "    lat_end = row_end.iloc[0, 2]\n",
    "    long_end = row_end.iloc[0, 3]\n",
    "    distance1 = calc_distance(lat_start, long_start, lat_end, long_end)\n",
    "    distance.append(distance1)"
   ]
  },
  {
   "cell_type": "code",
   "execution_count": 40,
   "metadata": {},
   "outputs": [],
   "source": [
    "df_july_2016_pred['distance']= distance"
   ]
  },
  {
   "cell_type": "code",
   "execution_count": 28,
   "metadata": {},
   "outputs": [],
   "source": [
    "# now apply it to the 2017 data\n",
    "df_divvy_2017 = pd.read_csv('Divvy_Station_2017.csv') \n",
    "df_july_2017 = pd.read_csv('July_trip_raw_data_2017.csv')"
   ]
  },
  {
   "cell_type": "code",
   "execution_count": 29,
   "metadata": {},
   "outputs": [],
   "source": [
    "# feature engineering!\n",
    "distance_2017 = []\n",
    "for index in range(len(df_july_2017)):\n",
    "    start_station = df_july_2017.iloc[index, 0]\n",
    "    end_station = df_july_2017.iloc[index, 1]\n",
    "    row_start = df_divvy_2017.loc[df_divvy_2017['id']==start_station]\n",
    "    row_end = df_divvy_2017.loc[df_divvy_2017['id']==end_station]\n",
    "    lat_start = row_start.iloc[0, 3]\n",
    "    long_start = row_start.iloc[0, 4]\n",
    "    lat_end = row_end.iloc[0, 3]\n",
    "    long_end = row_end.iloc[0, 4]\n",
    "    distance1 = calc_distance(lat_start, long_start, lat_end, long_end)\n",
    "    distance_2017.append(distance1)"
   ]
  },
  {
   "cell_type": "code",
   "execution_count": 30,
   "metadata": {},
   "outputs": [],
   "source": [
    "df_july_2017['distance'] = distance_2017"
   ]
  },
  {
   "cell_type": "code",
   "execution_count": 31,
   "metadata": {},
   "outputs": [],
   "source": [
    "df_july_2017 = df_july_2017.value_counts().to_frame('counts').reset_index()"
   ]
  },
  {
   "cell_type": "code",
   "execution_count": 33,
   "metadata": {},
   "outputs": [],
   "source": [
    "count_compare_2017 = []\n",
    "for index in range(len(df_july_2017)):\n",
    "    if df_july_2017.iloc[index, 3] >= 3:\n",
    "        count_compare_2017.append(1)\n",
    "    else:\n",
    "        count_compare_2017.append(0)"
   ]
  },
  {
   "cell_type": "code",
   "execution_count": 34,
   "metadata": {},
   "outputs": [],
   "source": [
    "df_july_2017['node_binary'] = count_compare_2017"
   ]
  },
  {
   "cell_type": "code",
   "execution_count": 35,
   "metadata": {},
   "outputs": [],
   "source": [
    "# Train test split\n",
    "df_july_2017 = df_july_2017[df_july_2017.start_station != 623]\n",
    "df_july_2017 = df_july_2017[df_july_2017.start_station != 624]\n",
    "df_july_2017 = df_july_2017[df_july_2017.start_station != 625]\n",
    "df_july_2017 = df_july_2017[df_july_2017.start_station != 626]\n",
    "df_july_2017 = df_july_2017[df_july_2017.end_station != 623]\n",
    "df_july_2017 = df_july_2017[df_july_2017.end_station != 624]\n",
    "df_july_2017 = df_july_2017[df_july_2017.end_station != 625]\n",
    "df_july_2017 = df_july_2017[df_july_2017.end_station != 626]"
   ]
  },
  {
   "cell_type": "code",
   "execution_count": 41,
   "metadata": {},
   "outputs": [],
   "source": [
    "X_cols = ['start_station', 'distance', 'end_station']\n",
    "\n",
    "y_cols = ['node_binary']\n",
    "\n",
    "y2017 = df_july_2017[y_cols]\n",
    "X2017 = df_july_2017[X_cols]\n",
    "\n",
    "y = df_july_2016_pred[y_cols]\n",
    "X = df_july_2016_pred[X_cols]"
   ]
  },
  {
   "cell_type": "code",
   "execution_count": 42,
   "metadata": {},
   "outputs": [
    {
     "name": "stdout",
     "output_type": "stream",
     "text": [
      "test accuracy: 0.6785921587251332\n",
      "macro f1 score: 0.6590778111303175\n"
     ]
    },
    {
     "name": "stderr",
     "output_type": "stream",
     "text": [
      "C:\\Users\\kevin\\anaconda3\\lib\\site-packages\\sklearn\\utils\\validation.py:72: DataConversionWarning: A column-vector y was passed when a 1d array was expected. Please change the shape of y to (n_samples, ), for example using ravel().\n",
      "  return f(**kwargs)\n"
     ]
    }
   ],
   "source": [
    "from sklearn.metrics import confusion_matrix, accuracy_score, f1_score, confusion_matrix\n",
    "from sklearn.naive_bayes import GaussianNB\n",
    "\n",
    "\n",
    "# naive bayes\n",
    "gnb = GaussianNB()\n",
    "y_pred = gnb.fit(X, y).predict(X2017)\n",
    "# since there is a mismatch between size of 2017 and 2016 data, we fill in filler values of 0 to indicate\n",
    "# that those nodes will never been used for the y_pred data.\n",
    "d = pd.DataFrame(0, index=np.arange(1674), columns=['node_binary'])\n",
    "y = pd.concat([y, d])\n",
    "print('test accuracy:', accuracy_score(y, y_pred))\n",
    "print('macro f1 score:', f1_score(y, y_pred, average='macro'))"
   ]
  },
  {
   "cell_type": "code",
   "execution_count": 43,
   "metadata": {},
   "outputs": [],
   "source": [
    "from sklearn.preprocessing import StandardScaler\n",
    "sc = StandardScaler()\n",
    "X1 = X\n",
    "X2017_1 = X2017\n",
    "X1 = sc.fit_transform(X1)\n",
    "X2017_1 = sc.transform(X2017_1)"
   ]
  },
  {
   "cell_type": "code",
   "execution_count": 45,
   "metadata": {},
   "outputs": [
    {
     "name": "stderr",
     "output_type": "stream",
     "text": [
      "C:\\Users\\kevin\\anaconda3\\lib\\site-packages\\sklearn\\utils\\validation.py:72: DataConversionWarning: A column-vector y was passed when a 1d array was expected. Please change the shape of y to (n_samples, ), for example using ravel().\n",
      "  return f(**kwargs)\n"
     ]
    },
    {
     "data": {
      "text/plain": [
       "0.701172547527139"
      ]
     },
     "execution_count": 45,
     "metadata": {},
     "output_type": "execute_result"
    }
   ],
   "source": [
    "from sklearn.neural_network import MLPClassifier\n",
    "clf = MLPClassifier(solver='adam', alpha=1e-5, random_state=1)\n",
    "y_unfiltered = df_july_2016_pred[y_cols]\n",
    "clf.fit(X1, y_unfiltered)\n",
    "clf.score(X1, y_unfiltered)"
   ]
  },
  {
   "cell_type": "code",
   "execution_count": 46,
   "metadata": {},
   "outputs": [
    {
     "name": "stdout",
     "output_type": "stream",
     "text": [
      "score on test data:  0.7003852039470213\n"
     ]
    }
   ],
   "source": [
    "# accuracy score\n",
    "predictions_test = clf.predict(X2017_1)\n",
    "test_score = accuracy_score(predictions_test, y2017)\n",
    "print(\"score on test data: \", test_score)"
   ]
  },
  {
   "cell_type": "markdown",
   "metadata": {},
   "source": [
    "The artifical neural network worked the best for predicting the directed binary BSS network of July 2017 using the station information and the directed binary network of the July 2016 data. The result of the artifical neural network resulted in a 70% accuracy rate compared to the 2017 data."
   ]
  },
  {
   "cell_type": "code",
   "execution_count": null,
   "metadata": {},
   "outputs": [],
   "source": []
  }
 ],
 "metadata": {
  "kernelspec": {
   "display_name": "Python 3",
   "language": "python",
   "name": "python3"
  },
  "language_info": {
   "codemirror_mode": {
    "name": "ipython",
    "version": 3
   },
   "file_extension": ".py",
   "mimetype": "text/x-python",
   "name": "python",
   "nbconvert_exporter": "python",
   "pygments_lexer": "ipython3",
   "version": "3.8.5"
  }
 },
 "nbformat": 4,
 "nbformat_minor": 4
}
