{
 "cells": [
  {
   "cell_type": "markdown",
   "metadata": {},
   "source": [
    "# Complex Network Analysis"
   ]
  },
  {
   "cell_type": "markdown",
   "metadata": {},
   "source": [
    "## Establish Trip Network"
   ]
  },
  {
   "cell_type": "code",
   "execution_count": 1,
   "metadata": {},
   "outputs": [],
   "source": [
    "import networkx as nx\n",
    "import matplotlib.pyplot as plt\n",
    "import pandas as pd\n",
    "import numpy as np"
   ]
  },
  {
   "cell_type": "code",
   "execution_count": 2,
   "metadata": {},
   "outputs": [],
   "source": [
    "df_july_2016_raw = pd.read_csv('July_trip_raw_data_2016.csv')"
   ]
  },
  {
   "cell_type": "code",
   "execution_count": 3,
   "metadata": {},
   "outputs": [],
   "source": [
    "df_july_2016_count = df_july_2016_raw.value_counts().to_frame('counts').reset_index() "
   ]
  },
  {
   "cell_type": "markdown",
   "metadata": {},
   "source": [
    "Data has been cleaned where the number of trips happening from one node to another is now established in the 'counts' column. The weight of the link is now the numerical value of 'counts', which represent the number of trips happening between node 1 (start_station) and node 2 (end_station)."
   ]
  },
  {
   "cell_type": "code",
   "execution_count": 4,
   "metadata": {},
   "outputs": [
    {
     "data": {
      "text/html": [
       "<div>\n",
       "<style scoped>\n",
       "    .dataframe tbody tr th:only-of-type {\n",
       "        vertical-align: middle;\n",
       "    }\n",
       "\n",
       "    .dataframe tbody tr th {\n",
       "        vertical-align: top;\n",
       "    }\n",
       "\n",
       "    .dataframe thead th {\n",
       "        text-align: right;\n",
       "    }\n",
       "</style>\n",
       "<table border=\"1\" class=\"dataframe\">\n",
       "  <thead>\n",
       "    <tr style=\"text-align: right;\">\n",
       "      <th></th>\n",
       "      <th>start_station</th>\n",
       "      <th>end_station</th>\n",
       "      <th>counts</th>\n",
       "    </tr>\n",
       "  </thead>\n",
       "  <tbody>\n",
       "    <tr>\n",
       "      <th>0</th>\n",
       "      <td>76</td>\n",
       "      <td>35</td>\n",
       "      <td>2298</td>\n",
       "    </tr>\n",
       "    <tr>\n",
       "      <th>1</th>\n",
       "      <td>35</td>\n",
       "      <td>268</td>\n",
       "      <td>1662</td>\n",
       "    </tr>\n",
       "    <tr>\n",
       "      <th>2</th>\n",
       "      <td>268</td>\n",
       "      <td>35</td>\n",
       "      <td>1476</td>\n",
       "    </tr>\n",
       "    <tr>\n",
       "      <th>3</th>\n",
       "      <td>177</td>\n",
       "      <td>35</td>\n",
       "      <td>1452</td>\n",
       "    </tr>\n",
       "    <tr>\n",
       "      <th>4</th>\n",
       "      <td>35</td>\n",
       "      <td>177</td>\n",
       "      <td>1447</td>\n",
       "    </tr>\n",
       "  </tbody>\n",
       "</table>\n",
       "</div>"
      ],
      "text/plain": [
       "   start_station  end_station  counts\n",
       "0             76           35    2298\n",
       "1             35          268    1662\n",
       "2            268           35    1476\n",
       "3            177           35    1452\n",
       "4             35          177    1447"
      ]
     },
     "execution_count": 4,
     "metadata": {},
     "output_type": "execute_result"
    }
   ],
   "source": [
    "df_july_2016_count.head(5)"
   ]
  },
  {
   "cell_type": "markdown",
   "metadata": {},
   "source": [
    "## Establish the value of X"
   ]
  },
  {
   "cell_type": "code",
   "execution_count": 5,
   "metadata": {},
   "outputs": [
    {
     "data": {
      "text/plain": [
       "1     15176\n",
       "2      8441\n",
       "3      5003\n",
       "4      3916\n",
       "5      2826\n",
       "6      2244\n",
       "7      1777\n",
       "8      1551\n",
       "9      1270\n",
       "10     1100\n",
       "11      977\n",
       "12      893\n",
       "13      769\n",
       "14      749\n",
       "15      611\n",
       "16      565\n",
       "17      488\n",
       "18      450\n",
       "20      409\n",
       "19      393\n",
       "Name: counts, dtype: int64"
      ]
     },
     "execution_count": 5,
     "metadata": {},
     "output_type": "execute_result"
    }
   ],
   "source": [
    "# now find the number of instances each 'counts' value occurs\n",
    "counting_number = df_july_2016_count['counts'].value_counts(ascending= False)\n",
    "counting_number.head(20)"
   ]
  },
  {
   "cell_type": "markdown",
   "metadata": {},
   "source": [
    "Since we want to remove outliers from our dataset, the cutoff for X should be at 5. This is when the gap between the usage of a bike station as start and end decreases drastically. We want to account for bike station that are regularly used, and we know that the regular user on average uses a bike sharing system 5 times per: https://www.sciencedirect.com/science/article/pii/S2211335519301202#:~:text=3.-,Results,%2C%2075th%20percentile%3A%209.6)\n",
    "Therefore, it would be wise to say that we want bike stations that are used as regularly as the regular users use the bike sharing system. Furthermore, having the cutoff at X improves our prediction of user behaviors. We get to segment and predict which bike stations are regularly used and which are not by having a weighted link threshold."
   ]
  },
  {
   "cell_type": "code",
   "execution_count": 6,
   "metadata": {},
   "outputs": [],
   "source": [
    "# now to remove all links with weights less than or equal to 4\n",
    "df_july_2016_bin = df_july_2016_count[df_july_2016_count['counts'] >= 5] # remove links smaller than 5"
   ]
  },
  {
   "cell_type": "markdown",
   "metadata": {},
   "source": [
    "## Visualize and Explore"
   ]
  },
  {
   "cell_type": "code",
   "execution_count": 7,
   "metadata": {},
   "outputs": [],
   "source": [
    "G = nx.from_pandas_edgelist(df_july_2016_bin, source = 'start_station', target = 'end_station')"
   ]
  },
  {
   "cell_type": "code",
   "execution_count": 8,
   "metadata": {},
   "outputs": [
    {
     "data": {
      "image/png": "[encoded data removed]",
      "text/plain": [
       "<Figure size 432x288 with 1 Axes>"
      ]
     },
     "metadata": {},
     "output_type": "display_data"
    }
   ],
   "source": [
    "nx.draw(G)"
   ]
  },
  {
   "cell_type": "code",
   "execution_count": 9,
   "metadata": {},
   "outputs": [
    {
     "data": {
      "text/plain": [
       "(array([204.,  65.,  58.,  51.,  56.,  41.,  25.,   8.,   5.,   1.]),\n",
       " array([  1. ,  23.2,  45.4,  67.6,  89.8, 112. , 134.2, 156.4, 178.6,\n",
       "        200.8, 223. ]),\n",
       " <BarContainer object of 10 artists>)"
      ]
     },
     "execution_count": 9,
     "metadata": {},
     "output_type": "execute_result"
    },
    {
     "data": {
      "image/png": "[encoded data removed]",
      "text/plain": [
       "<Figure size 432x288 with 1 Axes>"
      ]
     },
     "metadata": {
      "needs_background": "light"
     },
     "output_type": "display_data"
    }
   ],
   "source": [
    "# degree distribution\n",
    "plt.hist([v for k, v in nx.degree(G)])"
   ]
  },
  {
   "cell_type": "markdown",
   "metadata": {},
   "source": [
    "It seems like most stations are not used more widely to locations other than 25 end stations. This makes sense because if you are at one station, it is likely that you will not travel to 25 other stations that are too far away. However, the distribution also indicates that there are a significant amount of stations that are used to travel to many other stations as well. This could potentially reveal that there are a significant amount of stations that are located very close to each other."
   ]
  },
  {
   "cell_type": "code",
   "execution_count": 10,
   "metadata": {},
   "outputs": [
    {
     "data": {
      "text/plain": [
       "0.10620368474146889"
      ]
     },
     "execution_count": 10,
     "metadata": {},
     "output_type": "execute_result"
    }
   ],
   "source": [
    "nx.density(G) # this density value is probably affected by those two isolated outliers "
   ]
  },
  {
   "cell_type": "code",
   "execution_count": 11,
   "metadata": {},
   "outputs": [],
   "source": [
    "degree_dict = dict(G.degree(G.nodes()))\n",
    "nx.set_node_attributes(G, degree_dict, 'degree')"
   ]
  },
  {
   "cell_type": "code",
   "execution_count": 12,
   "metadata": {},
   "outputs": [
    {
     "name": "stdout",
     "output_type": "stream",
     "text": [
      "Top 10 nodes by degree:\n",
      "(268, 223)\n",
      "(35, 199)\n",
      "(91, 188)\n",
      "(77, 185)\n",
      "(85, 181)\n",
      "(177, 180)\n",
      "(133, 178)\n",
      "(94, 171)\n",
      "(289, 170)\n",
      "(287, 170)\n"
     ]
    }
   ],
   "source": [
    "from operator import itemgetter\n",
    "sorted_degree = sorted(degree_dict.items(), key=itemgetter(1), reverse=True)\n",
    "print(\"Top 10 nodes by degree:\")\n",
    "for d in sorted_degree[:10]:\n",
    "    print(d)"
   ]
  },
  {
   "cell_type": "code",
   "execution_count": 13,
   "metadata": {},
   "outputs": [
    {
     "name": "stdout",
     "output_type": "stream",
     "text": [
      "Top 10 nodes by betweenness centrality:\n",
      "(76, 0.05736468928658095)\n",
      "(4, 0.04808241446030134)\n",
      "(35, 0.044514508620682354)\n",
      "(177, 0.04414154950693802)\n",
      "(459, 0.04061449991675809)\n",
      "(268, 0.0323307679624885)\n",
      "(71, 0.029150602026847945)\n",
      "(518, 0.02738662290630391)\n",
      "(69, 0.026601383389828866)\n",
      "(90, 0.024850001037484762)\n",
      "Top 10 nodes by eigenvector centrality:\n",
      "(268, 0.12400947443048276)\n",
      "(35, 0.11547730345769235)\n",
      "(85, 0.11097182791461208)\n",
      "(133, 0.10801736927087326)\n",
      "(77, 0.10768925766856785)\n",
      "(91, 0.10753204684096497)\n",
      "(289, 0.10598721555824378)\n",
      "(287, 0.10478403680977579)\n",
      "(181, 0.10400666710594371)\n",
      "(176, 0.10309827028754975)\n"
     ]
    }
   ],
   "source": [
    "betweenness_dict = nx.betweenness_centrality(G) # Run betweenness centrality\n",
    "eigenvector_dict = nx.eigenvector_centrality(G) # Run eigenvector centrality\n",
    "\n",
    "# Assign each to an attribute in your network\n",
    "nx.set_node_attributes(G, betweenness_dict, 'betweenness')\n",
    "nx.set_node_attributes(G, eigenvector_dict, 'eigenvector')\n",
    "\n",
    "sorted_betweenness = sorted(betweenness_dict.items(), key=itemgetter(1), reverse=True)\n",
    "\n",
    "print(\"Top 10 nodes by betweenness centrality:\")\n",
    "for b in sorted_betweenness[:10]:\n",
    "    print(b)\n",
    "    \n",
    "sorted_eigenvector = sorted(eigenvector_dict.items(), key=itemgetter(1), reverse=True)\n",
    "\n",
    "print(\"Top 10 nodes by eigenvector centrality:\")\n",
    "for b in sorted_eigenvector[:10]:\n",
    "    print(b)"
   ]
  },
  {
   "cell_type": "markdown",
   "metadata": {},
   "source": [
    "Insert summary here later"
   ]
  },
  {
   "cell_type": "markdown",
   "metadata": {},
   "source": [
    "## BSS Network Prediction"
   ]
  },
  {
   "cell_type": "markdown",
   "metadata": {},
   "source": [
    "For the prediction of the binary network I will primarily use classification methods, such as logistic regression, artifical neural network, and naive bayes. Based on previous experiments, the naive bayes was the easiest to implement while being very similar to the artifical neural network in score."
   ]
  },
  {
   "cell_type": "code",
   "execution_count": 14,
   "metadata": {},
   "outputs": [],
   "source": [
    "df_july_2016_pred = pd.read_csv('July_trip_raw_data_2016.csv')"
   ]
  },
  {
   "cell_type": "code",
   "execution_count": 15,
   "metadata": {},
   "outputs": [],
   "source": [
    "df_july_2016_pred = df_july_2016_pred.value_counts().to_frame('counts').reset_index()"
   ]
  },
  {
   "cell_type": "code",
   "execution_count": 16,
   "metadata": {},
   "outputs": [],
   "source": [
    "count_compare = []\n",
    "for index in range(len(df_july_2016_pred)):\n",
    "    if df_july_2016_pred.iloc[index, 2] >= 5:\n",
    "        count_compare.append(1)\n",
    "    else:\n",
    "        count_compare.append(0)"
   ]
  },
  {
   "cell_type": "code",
   "execution_count": 17,
   "metadata": {},
   "outputs": [],
   "source": [
    "df_july_2016_pred['node_binary'] = count_compare"
   ]
  },
  {
   "cell_type": "code",
   "execution_count": 18,
   "metadata": {},
   "outputs": [],
   "source": [
    "# function for calculating distance using latitude and longitude\n",
    "import math\n",
    "def calc_distance(lat1, lon1, lat2, lon2):\n",
    "    R = 6373.0\n",
    "    lat1 = math.radians(lat1)\n",
    "    lon1 = math.radians(lon1)\n",
    "    lat2 = math.radians(lat2)\n",
    "    lon2 = math.radians(lon2)\n",
    "    dlon = lon2-lon1\n",
    "    dlat = lat2-lat1\n",
    "    a = math.sin(dlat/2)**2 + math.cos(lat1)*math.cos(lat2)*math.sin(dlon/2)**2\n",
    "    c = 2*math.atan2(math.sqrt(a), math.sqrt(1-a))\n",
    "    distance = R*c\n",
    "    return distance"
   ]
  },
  {
   "cell_type": "code",
   "execution_count": 19,
   "metadata": {},
   "outputs": [],
   "source": [
    "df_divvy_2016 = pd.read_csv('Divvy_Station_2016.csv')\n",
    "distance = []\n",
    "for index in range(len(df_july_2016_pred)):\n",
    "    start_station = df_july_2016_pred.iloc[index, 0]\n",
    "    end_station = df_july_2016_pred.iloc[index, 1]\n",
    "    row_start = df_divvy_2016.loc[df_divvy_2016['id']==start_station]\n",
    "    row_end = df_divvy_2016.loc[df_divvy_2016['id']==end_station]\n",
    "    lat_start = row_start.iloc[0, 2]\n",
    "    long_start = row_start.iloc[0, 3]\n",
    "    lat_end = row_end.iloc[0, 2]\n",
    "    long_end = row_end.iloc[0, 3]\n",
    "    distance1 = calc_distance(lat_start, long_start, lat_end, long_end)\n",
    "    distance.append(distance1)"
   ]
  },
  {
   "cell_type": "code",
   "execution_count": 20,
   "metadata": {},
   "outputs": [],
   "source": [
    "df_july_2016_pred['distance']= distance"
   ]
  },
  {
   "cell_type": "code",
   "execution_count": 21,
   "metadata": {},
   "outputs": [],
   "source": [
    "# now apply it to the 2017 data\n",
    "df_divvy_2017 = pd.read_csv('Divvy_Station_2017.csv') \n",
    "df_july_2017 = pd.read_csv('July_trip_raw_data_2017.csv')"
   ]
  },
  {
   "cell_type": "code",
   "execution_count": 22,
   "metadata": {},
   "outputs": [],
   "source": [
    "# feature engineering!\n",
    "distance_2017 = []\n",
    "for index in range(len(df_july_2017)):\n",
    "    start_station = df_july_2017.iloc[index, 0]\n",
    "    end_station = df_july_2017.iloc[index, 1]\n",
    "    row_start = df_divvy_2017.loc[df_divvy_2017['id']==start_station]\n",
    "    row_end = df_divvy_2017.loc[df_divvy_2017['id']==end_station]\n",
    "    lat_start = row_start.iloc[0, 3]\n",
    "    long_start = row_start.iloc[0, 4]\n",
    "    lat_end = row_end.iloc[0, 3]\n",
    "    long_end = row_end.iloc[0, 4]\n",
    "    distance1 = calc_distance(lat_start, long_start, lat_end, long_end)\n",
    "    distance_2017.append(distance1)"
   ]
  },
  {
   "cell_type": "code",
   "execution_count": 23,
   "metadata": {},
   "outputs": [],
   "source": [
    "df_july_2017['distance'] = distance_2017"
   ]
  },
  {
   "cell_type": "code",
   "execution_count": 24,
   "metadata": {},
   "outputs": [],
   "source": [
    "df_july_2017 = df_july_2017.value_counts().to_frame('counts').reset_index()"
   ]
  },
  {
   "cell_type": "code",
   "execution_count": 25,
   "metadata": {},
   "outputs": [],
   "source": [
    "count_compare_2017 = []\n",
    "for index in range(len(df_july_2017)):\n",
    "    if df_july_2017.iloc[index, 3] >= 5:\n",
    "        count_compare_2017.append(1)\n",
    "    else:\n",
    "        count_compare_2017.append(0)"
   ]
  },
  {
   "cell_type": "code",
   "execution_count": 26,
   "metadata": {},
   "outputs": [],
   "source": [
    "df_july_2017['node_binary'] = count_compare_2017"
   ]
  },
  {
   "cell_type": "code",
   "execution_count": 27,
   "metadata": {},
   "outputs": [],
   "source": [
    "# Train test split\n",
    "df_july_2017 = df_july_2017[df_july_2017.start_station != 623]\n",
    "df_july_2017 = df_july_2017[df_july_2017.start_station != 624]\n",
    "df_july_2017 = df_july_2017[df_july_2017.start_station != 625]\n",
    "df_july_2017 = df_july_2017[df_july_2017.start_station != 626]\n",
    "df_july_2017 = df_july_2017[df_july_2017.end_station != 623]\n",
    "df_july_2017 = df_july_2017[df_july_2017.end_station != 624]\n",
    "df_july_2017 = df_july_2017[df_july_2017.end_station != 625]\n",
    "df_july_2017 = df_july_2017[df_july_2017.end_station != 626]"
   ]
  },
  {
   "cell_type": "code",
   "execution_count": 28,
   "metadata": {},
   "outputs": [],
   "source": [
    "X_cols = ['start_station', 'distance', 'end_station']\n",
    "\n",
    "y_cols = ['node_binary']\n",
    "\n",
    "y2017 = df_july_2017[y_cols]\n",
    "X2017 = df_july_2017[X_cols]\n",
    "\n",
    "y = df_july_2016_pred[y_cols]\n",
    "X = df_july_2016_pred[X_cols]"
   ]
  },
  {
   "cell_type": "code",
   "execution_count": 29,
   "metadata": {},
   "outputs": [
    {
     "name": "stdout",
     "output_type": "stream",
     "text": [
      "test accuracy: 0.6973774471004168\n",
      "macro f1 score: 0.6925582798819518\n"
     ]
    },
    {
     "name": "stderr",
     "output_type": "stream",
     "text": [
      "C:\\Users\\kevin\\anaconda3\\lib\\site-packages\\sklearn\\utils\\validation.py:72: DataConversionWarning: A column-vector y was passed when a 1d array was expected. Please change the shape of y to (n_samples, ), for example using ravel().\n",
      "  return f(**kwargs)\n"
     ]
    }
   ],
   "source": [
    "from sklearn.metrics import confusion_matrix, accuracy_score, f1_score, confusion_matrix\n",
    "from sklearn.naive_bayes import GaussianNB\n",
    "\n",
    "\n",
    "# naive bayes\n",
    "gnb = GaussianNB()\n",
    "y_pred = gnb.fit(X, y).predict(X2017)\n",
    "# since there is a mismatch between size of 2017 and 2016 data, we fill in filler values of 0 to indicate\n",
    "# that those nodes will never been used for the y_pred data.\n",
    "d = pd.DataFrame(0, index=np.arange(1674), columns=['node_binary'])\n",
    "y = pd.concat([y, d])\n",
    "print('test accuracy:', accuracy_score(y, y_pred))\n",
    "print('macro f1 score:', f1_score(y, y_pred, average='macro'))"
   ]
  },
  {
   "cell_type": "code",
   "execution_count": 30,
   "metadata": {},
   "outputs": [],
   "source": [
    "from sklearn.preprocessing import StandardScaler\n",
    "sc = StandardScaler()\n",
    "X1 = X\n",
    "X2017_1 = X2017\n",
    "X1 = sc.fit_transform(X1)\n",
    "X2017_1 = sc.transform(X2017_1)"
   ]
  },
  {
   "cell_type": "code",
   "execution_count": 31,
   "metadata": {},
   "outputs": [
    {
     "name": "stderr",
     "output_type": "stream",
     "text": [
      "C:\\Users\\kevin\\anaconda3\\lib\\site-packages\\sklearn\\utils\\validation.py:72: DataConversionWarning: A column-vector y was passed when a 1d array was expected. Please change the shape of y to (n_samples, ), for example using ravel().\n",
      "  return f(**kwargs)\n"
     ]
    },
    {
     "data": {
      "text/plain": [
       "0.7342648471338734"
      ]
     },
     "execution_count": 31,
     "metadata": {},
     "output_type": "execute_result"
    }
   ],
   "source": [
    "from sklearn.neural_network import MLPClassifier\n",
    "clf = MLPClassifier(solver='adam', alpha=1e-5, random_state=1)\n",
    "y_unfiltered = df_july_2016_pred[y_cols]\n",
    "clf.fit(X1, y_unfiltered)\n",
    "clf.score(X1, y_unfiltered)"
   ]
  },
  {
   "cell_type": "code",
   "execution_count": 32,
   "metadata": {},
   "outputs": [
    {
     "name": "stdout",
     "output_type": "stream",
     "text": [
      "score on test data:  0.7321337484389566\n"
     ]
    }
   ],
   "source": [
    "# accuracy score\n",
    "predictions_test = clf.predict(X2017_1)\n",
    "test_score = accuracy_score(predictions_test, y2017)\n",
    "print(\"score on test data: \", test_score)"
   ]
  },
  {
   "cell_type": "markdown",
   "metadata": {},
   "source": [
    "The artifical neural network worked the best for predicting the directed binary BSS network of July 2017 using the station information and the directed binary network of the July 2016 data. The result of the artifical neural network resulted in a 70% accuracy rate compared to the 2017 data."
   ]
  },
  {
   "cell_type": "code",
   "execution_count": null,
   "metadata": {},
   "outputs": [],
   "source": []
  }
 ],
 "metadata": {
  "kernelspec": {
   "display_name": "Python 3",
   "language": "python",
   "name": "python3"
  },
  "language_info": {
   "codemirror_mode": {
    "name": "ipython",
    "version": 3
   },
   "file_extension": ".py",
   "mimetype": "text/x-python",
   "name": "python",
   "nbconvert_exporter": "python",
   "pygments_lexer": "ipython3",
   "version": "3.8.5"
  }
 },
 "nbformat": 4,
 "nbformat_minor": 4
}
